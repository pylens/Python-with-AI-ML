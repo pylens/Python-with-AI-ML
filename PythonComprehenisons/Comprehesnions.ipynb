{
 "cells": [
  {
   "cell_type": "code",
   "execution_count": 23,
   "id": "204bbcc1",
   "metadata": {},
   "outputs": [
    {
     "name": "stdout",
     "output_type": "stream",
     "text": [
      "5.25\n",
      "10.5\n",
      "3.15\n"
     ]
    }
   ],
   "source": [
    "# Customer 1: Coffee $5, default tax 5%\n",
    "coffee_price = 5\n",
    "coffee_total = coffee_price + (coffee_price * 0.05)\n",
    "print(coffee_total)  # 5.25\n",
    "\n",
    "# Customer 2: Sandwich $10, custom tax 5%\n",
    "sandwich_price = 10\n",
    "sandwich_total = sandwich_price + (sandwich_price * 0.05)\n",
    "print(sandwich_total)  # 11.0\n",
    "\n",
    "# Customer 3: Muffin $3, default tax 5%\n",
    "muffin_price = 3\n",
    "muffin_total = muffin_price + (muffin_price * 0.05)\n",
    "print(muffin_total)  # 3.15\n"
   ]
  },
  {
   "cell_type": "code",
   "execution_count": 24,
   "id": "1e25f1c8",
   "metadata": {},
   "outputs": [],
   "source": [
    "def calculate_total(price, tax=0.05):\n",
    "    return price + (price * tax)\n"
   ]
  },
  {
   "cell_type": "code",
   "execution_count": 28,
   "id": "4ad69ef9",
   "metadata": {},
   "outputs": [
    {
     "name": "stdout",
     "output_type": "stream",
     "text": [
      "5.25\n"
     ]
    }
   ],
   "source": [
    "total = calculate_total(5)\n",
    "print(total)  # 5.25\n"
   ]
  },
  {
   "cell_type": "code",
   "execution_count": null,
   "id": "5ba2626f",
   "metadata": {},
   "outputs": [],
   "source": []
  }
 ],
 "metadata": {
  "kernelspec": {
   "display_name": "base",
   "language": "python",
   "name": "python3"
  },
  "language_info": {
   "codemirror_mode": {
    "name": "ipython",
    "version": 3
   },
   "file_extension": ".py",
   "mimetype": "text/x-python",
   "name": "python",
   "nbconvert_exporter": "python",
   "pygments_lexer": "ipython3",
   "version": "3.13.2"
  }
 },
 "nbformat": 4,
 "nbformat_minor": 5
}
